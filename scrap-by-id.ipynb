{
 "cells": [
  {
   "cell_type": "code",
   "execution_count": 36,
   "metadata": {},
   "outputs": [],
   "source": [
    "#!pip install selenium "
   ]
  },
  {
   "cell_type": "code",
   "execution_count": 37,
   "metadata": {},
   "outputs": [],
   "source": [
    "#!pip3 install time \n",
    "#!pip3 install parsel"
   ]
  },
  {
   "cell_type": "code",
   "execution_count": 10,
   "metadata": {},
   "outputs": [
    {
     "data": {
      "text/plain": [
       "'/home/nakul/anaconda3/bin'"
      ]
     },
     "execution_count": 10,
     "metadata": {},
     "output_type": "execute_result"
    }
   ],
   "source": [
    "import os\n",
    "import sys\n",
    "os.path.dirname(sys.executable)"
   ]
  },
  {
   "cell_type": "code",
   "execution_count": 15,
   "metadata": {},
   "outputs": [
    {
     "name": "stdout",
     "output_type": "stream",
     "text": [
      "/home/nakul/anaconda3/lib/python3.7/site-packages/selenium-3.141.0-py3.7.egg\n"
     ]
    }
   ],
   "source": [
    "cd lib/python3.7/site-packages/selenium-3.141.0-py3.7.egg/"
   ]
  },
  {
   "cell_type": "code",
   "execution_count": 16,
   "metadata": {},
   "outputs": [],
   "source": [
    "from selenium import webdriver"
   ]
  },
  {
   "cell_type": "code",
   "execution_count": 17,
   "metadata": {},
   "outputs": [
    {
     "name": "stdout",
     "output_type": "stream",
     "text": [
      "Reading package lists... Done\n",
      "E: Could not open lock file /var/lib/apt/lists/lock - open (13: Permission denied)\n",
      "E: Unable to lock directory /var/lib/apt/lists/\n",
      "W: Problem unlinking the file /var/cache/apt/pkgcache.bin - RemoveCaches (13: Permission denied)\n",
      "W: Problem unlinking the file /var/cache/apt/srcpkgcache.bin - RemoveCaches (13: Permission denied)\n",
      "E: Could not open lock file /var/lib/dpkg/lock-frontend - open (13: Permission denied)\n",
      "E: Unable to acquire the dpkg frontend lock (/var/lib/dpkg/lock-frontend), are you root?\n",
      "cp: '/usr/lib/chromium-browser/chromedriver' and '/usr/bin/chromedriver' are the same file\n"
     ]
    }
   ],
   "source": [
    "!apt-get update # to update ubuntu to correctly run apt install\n",
    "!apt install chromium-chromedriver\n",
    "!cp /usr/lib/chromium-browser/chromedriver /usr/bin\n",
    "import sys\n",
    "sys.path.insert(0,'/usr/lib/chromium-browser/chromedriver')"
   ]
  },
  {
   "cell_type": "code",
   "execution_count": 19,
   "metadata": {},
   "outputs": [],
   "source": [
    "options = webdriver.ChromeOptions()\n",
    "options.add_argument('--headless')\n",
    "options.add_argument('--no-sandbox')\n",
    "options.add_argument('--disable-dev-shm-usage')\n",
    "driver = webdriver.Chrome('chromedriver',options=options)"
   ]
  },
  {
   "cell_type": "code",
   "execution_count": 21,
   "metadata": {},
   "outputs": [],
   "source": [
    "driver = webdriver.Chrome('/home/nakul/anaconda3/bin/chromedriver')"
   ]
  },
  {
   "cell_type": "code",
   "execution_count": 20,
   "metadata": {},
   "outputs": [],
   "source": [
    "driver.get(\"https://www.linkedin.com\")"
   ]
  },
  {
   "cell_type": "code",
   "execution_count": 23,
   "metadata": {},
   "outputs": [],
   "source": [
    "username = driver.find_element_by_id('session_key')\n",
    "\n",
    "# send_keys() to simulate key strokes\n",
    "username.send_keys('nakul199529@gmail.com')"
   ]
  },
  {
   "cell_type": "code",
   "execution_count": 24,
   "metadata": {},
   "outputs": [],
   "source": [
    "password = driver.find_element_by_id('session_password')\n",
    "\n",
    "# send_keys() to simulate key strokes\n",
    "password.send_keys('nakul2001')"
   ]
  },
  {
   "cell_type": "code",
   "execution_count": 26,
   "metadata": {},
   "outputs": [],
   "source": [
    "log_in_button = driver.find_element_by_class_name('sign-in-form__submit-button')\n",
    "log_in_button.click()"
   ]
  },
  {
   "cell_type": "code",
   "execution_count": 39,
   "metadata": {},
   "outputs": [],
   "source": [
    "driver.get('https://www.linkedin.com/in/nakul-jindal-350a041a5/')"
   ]
  },
  {
   "cell_type": "code",
   "execution_count": 28,
   "metadata": {},
   "outputs": [],
   "source": [
    "import time"
   ]
  },
  {
   "cell_type": "code",
   "execution_count": 67,
   "metadata": {},
   "outputs": [],
   "source": [
    "SCROLL_PAUSE_TIME = 5\n",
    "\n",
    "# Get scroll height\n",
    "last_height = driver.execute_script(\"return document.body.scrollHeight\")\n",
    "\n",
    "for i in range(20):\n",
    "    # Scroll down to bottom\n",
    "    driver.execute_script(\"window.scrollTo(0, document.body.scrollHeight);\")\n",
    "\n",
    "    # Wait to load page\n",
    "    time.sleep(SCROLL_PAUSE_TIME)\n",
    "\n",
    "    # Calculate new scroll height and compare with last scroll height\n",
    "    new_height = driver.execute_script(\"return document.body.scrollHeight\")\n",
    "    if new_height == last_height:\n",
    "        break\n",
    "    last_height = new_height"
   ]
  },
  {
   "cell_type": "code",
   "execution_count": 65,
   "metadata": {},
   "outputs": [],
   "source": [
    "driver.get(\"https://www.linkedin.com/school/indian-institute-of-technology-kanpur/people/?facetCurrentCompany=1382\")"
   ]
  },
  {
   "cell_type": "code",
   "execution_count": 57,
   "metadata": {},
   "outputs": [],
   "source": [
    "import requests, time, random\n",
    "from bs4 import BeautifulSoup"
   ]
  },
  {
   "cell_type": "code",
   "execution_count": 69,
   "metadata": {},
   "outputs": [],
   "source": [
    "src = driver.page_source\n",
    "soup = BeautifulSoup(src, 'lxml')"
   ]
  },
  {
   "cell_type": "code",
   "execution_count": 35,
   "metadata": {},
   "outputs": [],
   "source": [
    "name_div = soup.find('div', {'class': 'flex-1 mr5 pv-top-card__list-container'})\n",
    "#name_div"
   ]
  },
  {
   "cell_type": "code",
   "execution_count": 34,
   "metadata": {},
   "outputs": [
    {
     "data": {
      "text/plain": [
       "<li class=\"inline t-24 t-black t-normal break-words\">\n",
       "              Nakul Jindal\n",
       "            </li>"
      ]
     },
     "execution_count": 34,
     "metadata": {},
     "output_type": "execute_result"
    }
   ],
   "source": [
    "name_div = soup.find('li', {'class': 'inline t-24 t-black t-normal break-words'})\n",
    "name_div"
   ]
  },
  {
   "cell_type": "code",
   "execution_count": 60,
   "metadata": {},
   "outputs": [],
   "source": [
    "driver.get(\"https://www.linkedin.com/school/indian-institute-of-technology-kanpur/people/\")"
   ]
  },
  {
   "cell_type": "code",
   "execution_count": 90,
   "metadata": {},
   "outputs": [],
   "source": [
    "name_div = soup.find('div', {'class': 'pv-entity__summary-info pv-entity__summary-info--background-section'})\n",
    "#name_div"
   ]
  },
  {
   "cell_type": "code",
   "execution_count": 42,
   "metadata": {},
   "outputs": [
    {
     "data": {
      "text/plain": [
       "'2019 – 2023'"
      ]
     },
     "execution_count": 42,
     "metadata": {},
     "output_type": "execute_result"
    }
   ],
   "source": [
    "name_div.find('p', {'class': 'pv-entity__dates t-14 t-black--light t-normal'}).find_all('span')[1].get_text().strip()"
   ]
  },
  {
   "cell_type": "code",
   "execution_count": 43,
   "metadata": {},
   "outputs": [
    {
     "data": {
      "text/plain": [
       "'Computer Science'"
      ]
     },
     "execution_count": 43,
     "metadata": {},
     "output_type": "execute_result"
    }
   ],
   "source": [
    "name_div.find('p', {'class': 'pv-entity__secondary-title pv-entity__fos t-14 t-black t-normal'}).find_all('span')[1].get_text().strip()"
   ]
  },
  {
   "cell_type": "code",
   "execution_count": 92,
   "metadata": {},
   "outputs": [],
   "source": [
    "#name_div.find('p', {'class': 'pv-entity__secondary-title pv-entity__degree-name t-14 t-black t-normal'}).find_all('span')[1].get_text().strip()"
   ]
  },
  {
   "cell_type": "code",
   "execution_count": null,
   "metadata": {},
   "outputs": [],
   "source": [
    "class=\"ember-view link-without-visited-state\""
   ]
  },
  {
   "cell_type": "code",
   "execution_count": null,
   "metadata": {},
   "outputs": [],
   "source": [
    "class = artdeco-entity-lockup__title ember-view"
   ]
  },
  {
   "cell_type": "code",
   "execution_count": null,
   "metadata": {},
   "outputs": [],
   "source": [
    "display-flex list-style-none flex-wrap"
   ]
  },
  {
   "cell_type": "code",
   "execution_count": 48,
   "metadata": {},
   "outputs": [],
   "source": [
    "name_div = soup.find('ul', {'class': 'display-flex list-style-none flex-wrap'})\n",
    "#name_div"
   ]
  },
  {
   "cell_type": "code",
   "execution_count": 75,
   "metadata": {},
   "outputs": [],
   "source": [
    "list=name_div.find_all('li')\n"
   ]
  },
  {
   "cell_type": "code",
   "execution_count": 71,
   "metadata": {},
   "outputs": [],
   "source": [
    "ppl = soup.find_all('div' , {'class' : \"artdeco-entity-lockup__title ember-view\"})"
   ]
  },
  {
   "cell_type": "code",
   "execution_count": 88,
   "metadata": {},
   "outputs": [],
   "source": [
    "l = []\n",
    "for p in ppl :\n",
    "    if p.find('a') :\n",
    "        l.append('https://www.linkedin.com/' + p.find('a').get('href'))\n",
    "        "
   ]
  },
  {
   "cell_type": "code",
   "execution_count": 89,
   "metadata": {},
   "outputs": [
    {
     "data": {
      "text/plain": [
       "['https://www.linkedin.com//in/anirudh-purwar-07746441/',\n",
       " 'https://www.linkedin.com//in/pitchiahganesh/',\n",
       " 'https://www.linkedin.com//in/sakshi-singh-a61a7214b/',\n",
       " 'https://www.linkedin.com//in/anmol-kumar-22192914b/',\n",
       " 'https://www.linkedin.com//in/afroz-alam-2177ab9b/',\n",
       " 'https://www.linkedin.com//in/amartyaprusty/',\n",
       " 'https://www.linkedin.com//in/shiwansh-raj-rai-5158b0106/',\n",
       " 'https://www.linkedin.com//in/monamirza25/',\n",
       " 'https://www.linkedin.com//in/vikaskushwaha/',\n",
       " 'https://www.linkedin.com//in/divya-chauhan-0509/',\n",
       " 'https://www.linkedin.com//in/nitish-sharma-56953345/',\n",
       " 'https://www.linkedin.com//in/aditya-garg-993b75b8/',\n",
       " 'https://www.linkedin.com//in/ssunitk-iitk/',\n",
       " 'https://www.linkedin.com//in/saikripd/',\n",
       " 'https://www.linkedin.com//in/mukund-/',\n",
       " 'https://www.linkedin.com//in/harshal-waghmare/',\n",
       " 'https://www.linkedin.com//in/akash-singh-507110151/',\n",
       " 'https://www.linkedin.com//in/abhinaykumar42/',\n",
       " 'https://www.linkedin.com//in/saisha-narang-6099b9b6/',\n",
       " 'https://www.linkedin.com//in/kalpimittal/',\n",
       " 'https://www.linkedin.com//in/kailash-kumar-a914098b/',\n",
       " 'https://www.linkedin.com//in/kanhayanamdhar/',\n",
       " 'https://www.linkedin.com//in/rahul-purvar-329b8612/',\n",
       " 'https://www.linkedin.com//in/maneet-kaur-733a4314b/',\n",
       " 'https://www.linkedin.com//in/abhinav-mehta-86b79657/',\n",
       " 'https://www.linkedin.com//in/govind-gopakumar-95424172/',\n",
       " 'https://www.linkedin.com//in/vishaldiwakar/',\n",
       " 'https://www.linkedin.com//in/anujnag/',\n",
       " 'https://www.linkedin.com//in/mayank-agrawal-7a236157/',\n",
       " 'https://www.linkedin.com//in/gopichand-kotana-a284a2146/',\n",
       " 'https://www.linkedin.com//in/ashish-gupta-4070b1192/',\n",
       " 'https://www.linkedin.com//in/pulkit-kariryaa-71217897/',\n",
       " 'https://www.linkedin.com//in/sukhjeevan-bansal/',\n",
       " 'https://www.linkedin.com//in/ashutosh5/',\n",
       " 'https://www.linkedin.com//in/swastik-sharma-7700a5119/',\n",
       " 'https://www.linkedin.com//in/yash-jain-9b654413b/',\n",
       " 'https://www.linkedin.com//in/amit-kumar-6570723a/',\n",
       " 'https://www.linkedin.com//in/arpitagarwal21/',\n",
       " 'https://www.linkedin.com//in/boseis/',\n",
       " 'https://www.linkedin.com//in/anivesh/',\n",
       " 'https://www.linkedin.com//in/prakhar-ji-gupta-3b3bbb136/',\n",
       " 'https://www.linkedin.com//in/sohil-mahajan-b40b1116/',\n",
       " 'https://www.linkedin.com//in/akanksha-makkar-399137139/',\n",
       " 'https://www.linkedin.com//in/dhananjay-singh-0b5502148/',\n",
       " 'https://www.linkedin.com//in/mohit-duseja/',\n",
       " 'https://www.linkedin.com//in/sunil-kumar-pandey/',\n",
       " 'https://www.linkedin.com//in/nancygoyal1998/',\n",
       " 'https://www.linkedin.com//in/harshit-kumar-a61121166/',\n",
       " 'https://www.linkedin.com//in/vishaal-sudarsan-b4398393/',\n",
       " 'https://www.linkedin.com//in/guptash1995/',\n",
       " 'https://www.linkedin.com//in/kshitiz-suman-6b10a2114/',\n",
       " 'https://www.linkedin.com//in/avinash-mohak-675029b2/',\n",
       " 'https://www.linkedin.com//in/milan-someswar-21620979/',\n",
       " 'https://www.linkedin.com//in/shivam-khandelwal-a9834094/',\n",
       " 'https://www.linkedin.com//in/prawaan-singh-1965b2104/',\n",
       " 'https://www.linkedin.com//in/subhadip-nandi-252aa735/',\n",
       " 'https://www.linkedin.com//in/apurvanand1729/',\n",
       " 'https://www.linkedin.com//in/hardik-maheshwari-237b2b123/',\n",
       " 'https://www.linkedin.com//in/bhanu-yadav-2a8a8986/',\n",
       " 'https://www.linkedin.com//in/subham9130/',\n",
       " 'https://www.linkedin.com//in/shrey-agrawal-624a2612a/',\n",
       " 'https://www.linkedin.com//in/manishpanwar/',\n",
       " 'https://www.linkedin.com//in/shubham-agrawal-385795b9/',\n",
       " 'https://www.linkedin.com//in/nimish-kumar-2aa2208a/',\n",
       " 'https://www.linkedin.com//in/aditi-singh-b82303158/',\n",
       " 'https://www.linkedin.com//in/mounica-bachu-8a1b54186/',\n",
       " 'https://www.linkedin.com//in/shashwat-singh-jamwal-0a020a11b/',\n",
       " 'https://www.linkedin.com//in/susmit-wagle-646668118/',\n",
       " 'https://www.linkedin.com//in/siddharth-ganeriwala/',\n",
       " 'https://www.linkedin.com//in/satyam-sahu/',\n",
       " 'https://www.linkedin.com//in/ria-sharma-a99022129/',\n",
       " 'https://www.linkedin.com//in/devashish-mehta-bb77b0147/',\n",
       " 'https://www.linkedin.com//in/arvind-m-5486b5165/',\n",
       " 'https://www.linkedin.com//in/itspawanhere/',\n",
       " 'https://www.linkedin.com//in/msid/',\n",
       " 'https://www.linkedin.com//in/anurag-pandey-09501813b/',\n",
       " 'https://www.linkedin.com//in/aditya-srivastava-30b9b3117/',\n",
       " 'https://www.linkedin.com//in/deepak-singh-80843893/',\n",
       " 'https://www.linkedin.com//in/saurav-singh-7122651b/',\n",
       " 'https://www.linkedin.com//in/payal-agarwal-iitk/',\n",
       " 'https://www.linkedin.com//in/gsarafiitk/',\n",
       " 'https://www.linkedin.com//in/abhishekaich/',\n",
       " 'https://www.linkedin.com//in/ankita-bishnu-54a7806b/',\n",
       " 'https://www.linkedin.com//in/shivarajchallapalli/',\n",
       " 'https://www.linkedin.com//in/manish-anand-52762aa7/',\n",
       " 'https://www.linkedin.com//in/kushagra-singhal-64543030/',\n",
       " 'https://www.linkedin.com//in/varun-barala-a59a6984/',\n",
       " 'https://www.linkedin.com//in/rishabh-vaid-923448112/',\n",
       " 'https://www.linkedin.com//in/siddharth-gaur-2b060a96/',\n",
       " 'https://www.linkedin.com//in/akash-sharma-2b28871ab/',\n",
       " 'https://www.linkedin.com//in/deepam-kedia-11b98926/',\n",
       " 'https://www.linkedin.com//in/jaimita/',\n",
       " 'https://www.linkedin.com//in/njagga/',\n",
       " 'https://www.linkedin.com//in/meagmohit/',\n",
       " 'https://www.linkedin.com//in/mayank-sachan-44945a29/',\n",
       " 'https://www.linkedin.com//in/saurabh-budholiya-97175282/',\n",
       " 'https://www.linkedin.com//in/tanuj-girdhar-7362ba163/',\n",
       " 'https://www.linkedin.com//in/pankajmore/',\n",
       " 'https://www.linkedin.com//in/shahsaumya93/',\n",
       " 'https://www.linkedin.com//in/debosmita-chaudhuri-a0280763/',\n",
       " 'https://www.linkedin.com//in/aman-sharma-966b8277/',\n",
       " 'https://www.linkedin.com//in/rohan-nag-81876944/',\n",
       " 'https://www.linkedin.com//in/vijaysaraswat/',\n",
       " 'https://www.linkedin.com//in/rushabmunot/',\n",
       " 'https://www.linkedin.com//in/abhilash-kumar-goyal-cfa-31b29743/',\n",
       " 'https://www.linkedin.com//in/abhishek-rajput-67660117/',\n",
       " 'https://www.linkedin.com//in/shobhit-srivastava-9771485/',\n",
       " 'https://www.linkedin.com//in/saurabh-agarwal-a845091/',\n",
       " 'https://www.linkedin.com//in/rahulerai/',\n",
       " 'https://www.linkedin.com//in/varun-mahajan-50732914a/',\n",
       " 'https://www.linkedin.com//in/tusharchahal/',\n",
       " 'https://www.linkedin.com//in/shishbp/',\n",
       " 'https://www.linkedin.com//in/abhishek-tiwari-a700a79/',\n",
       " 'https://www.linkedin.com//in/harsh-singh-0b052221/',\n",
       " 'https://www.linkedin.com//in/mohit-garg-22359969/',\n",
       " 'https://www.linkedin.com//in/darpan-nim-28a8435/',\n",
       " 'https://www.linkedin.com//in/ankit-chowdhari-a9846148/',\n",
       " 'https://www.linkedin.com//in/chetans13/',\n",
       " 'https://www.linkedin.com//in/manas-bhattacharjee-851188154/',\n",
       " 'https://www.linkedin.com//in/preetishbajpai/',\n",
       " 'https://www.linkedin.com//in/shivam-choubey-7b8041a6/',\n",
       " 'https://www.linkedin.com//in/mundhra/',\n",
       " 'https://www.linkedin.com//in/adityaagarwal95/',\n",
       " 'https://www.linkedin.com//in/shvarun/',\n",
       " 'https://www.linkedin.com//in/ashishsrivastava28/',\n",
       " 'https://www.linkedin.com//in/siddhartha-srivastava-bba21114b/',\n",
       " 'https://www.linkedin.com//in/vaibhav-agrawal-86986346/',\n",
       " 'https://www.linkedin.com//in/devanshuverma/',\n",
       " 'https://www.linkedin.com//in/kush-shah-6b88418/',\n",
       " 'https://www.linkedin.com//in/anushka-srivastava/',\n",
       " 'https://www.linkedin.com//in/mayank-agrawal-a4a8b225/',\n",
       " 'https://www.linkedin.com//in/shivangilal/',\n",
       " 'https://www.linkedin.com//in/jayakiran-akurathi-a7696794/',\n",
       " 'https://www.linkedin.com//in/aman-jain-13354319/',\n",
       " 'https://www.linkedin.com//in/anindyajyotiroy/',\n",
       " 'https://www.linkedin.com//in/chetan-swarup-3ba2624/',\n",
       " 'https://www.linkedin.com//in/dhritiman-nandan-6a0a15ab/',\n",
       " 'https://www.linkedin.com//in/sidharath-priyadarshi-cfa-frm-20ab355/',\n",
       " 'https://www.linkedin.com//in/suman-dhara-4a549215/',\n",
       " 'https://www.linkedin.com//in/gauranga-pal-02037084/',\n",
       " 'https://www.linkedin.com//in/sumitgupta2/',\n",
       " 'https://www.linkedin.com//in/prashant-gupta-9416b54/']"
      ]
     },
     "execution_count": 89,
     "metadata": {},
     "output_type": "execute_result"
    }
   ],
   "source": [
    "l"
   ]
  },
  {
   "cell_type": "code",
   "execution_count": null,
   "metadata": {},
   "outputs": [],
   "source": []
  }
 ],
 "metadata": {
  "kernelspec": {
   "display_name": "Python 3",
   "language": "python",
   "name": "python3"
  },
  "language_info": {
   "codemirror_mode": {
    "name": "ipython",
    "version": 3
   },
   "file_extension": ".py",
   "mimetype": "text/x-python",
   "name": "python",
   "nbconvert_exporter": "python",
   "pygments_lexer": "ipython3",
   "version": "3.8.8"
  }
 },
 "nbformat": 4,
 "nbformat_minor": 4
}
