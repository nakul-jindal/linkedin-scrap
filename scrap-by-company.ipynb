{
 "cells": [
  {
   "cell_type": "code",
   "execution_count": 80,
   "metadata": {},
   "outputs": [],
   "source": [
    "from selenium import webdriver"
   ]
  },
  {
   "cell_type": "code",
   "execution_count": 81,
   "metadata": {},
   "outputs": [],
   "source": [
    "driver = webdriver.Chrome('/home/nakul/anaconda3/bin/chromedriver')"
   ]
  },
  {
   "cell_type": "code",
   "execution_count": 82,
   "metadata": {},
   "outputs": [],
   "source": [
    "driver.get(\"https://www.linkedin.com\")"
   ]
  },
  {
   "cell_type": "code",
   "execution_count": 83,
   "metadata": {},
   "outputs": [],
   "source": [
    "username = driver.find_element_by_id('session_key')\n",
    "\n",
    "# send_keys() to simulate key strokes\n",
    "username.send_keys('nakul199529@gmail.com')"
   ]
  },
  {
   "cell_type": "code",
   "execution_count": 84,
   "metadata": {},
   "outputs": [],
   "source": [
    "password = driver.find_element_by_id('session_password')\n",
    "\n",
    "# send_keys() to simulate key strokes\n",
    "password.send_keys('nakul2001')"
   ]
  },
  {
   "cell_type": "code",
   "execution_count": 85,
   "metadata": {},
   "outputs": [],
   "source": [
    "log_in_button = driver.find_element_by_class_name('sign-in-form__submit-button')\n",
    "log_in_button.click()"
   ]
  },
  {
   "cell_type": "code",
   "execution_count": 281,
   "metadata": {},
   "outputs": [],
   "source": [
    "driver.get('https://www.linkedin.com/school/indian-institute-of-technology-kanpur/people/?facetCurrentCompany=1353')"
   ]
  },
  {
   "cell_type": "code",
   "execution_count": 282,
   "metadata": {},
   "outputs": [],
   "source": [
    "import time"
   ]
  },
  {
   "cell_type": "code",
   "execution_count": 283,
   "metadata": {},
   "outputs": [],
   "source": [
    "SCROLL_PAUSE_TIME = 5\n",
    "\n",
    "# Get scroll height\n",
    "last_height = driver.execute_script(\"return document.body.scrollHeight\")\n",
    "\n",
    "for i in range(20):\n",
    "    # Scroll down to bottom\n",
    "    driver.execute_script(\"window.scrollTo(0, document.body.scrollHeight);\")\n",
    "\n",
    "    # Wait to load page\n",
    "    time.sleep(SCROLL_PAUSE_TIME)\n",
    "\n",
    "    # Calculate new scroll height and compare with last scroll height\n",
    "    new_height = driver.execute_script(\"return document.body.scrollHeight\")\n",
    "    if new_height == last_height:\n",
    "        break\n",
    "    last_height = new_height"
   ]
  },
  {
   "cell_type": "code",
   "execution_count": 173,
   "metadata": {},
   "outputs": [],
   "source": [
    "import requests, time, random\n",
    "from bs4 import BeautifulSoup"
   ]
  },
  {
   "cell_type": "code",
   "execution_count": 284,
   "metadata": {},
   "outputs": [],
   "source": [
    "src = driver.page_source\n",
    "soup = BeautifulSoup(src, 'lxml')"
   ]
  },
  {
   "cell_type": "code",
   "execution_count": 285,
   "metadata": {},
   "outputs": [],
   "source": [
    "ppl = soup.find_all('div' , {'class' : \"artdeco-entity-lockup__title ember-view\"})"
   ]
  },
  {
   "cell_type": "code",
   "execution_count": 286,
   "metadata": {},
   "outputs": [],
   "source": [
    "link = []\n",
    "names=[]\n",
    "company=[]\n",
    "for p in ppl :\n",
    "    if p.find('a') :\n",
    "        q=p.find('a')\n",
    "        link.append('https://www.linkedin.com/' + q.get('href')) \n",
    "        names.append(q.find('div').get_text().strip())\n",
    "        company.append('TCS')"
   ]
  },
  {
   "cell_type": "code",
   "execution_count": 194,
   "metadata": {},
   "outputs": [],
   "source": [
    "#link\n",
    "#names"
   ]
  },
  {
   "cell_type": "code",
   "execution_count": 25,
   "metadata": {},
   "outputs": [],
   "source": [
    "for l in link :    \n",
    "    driver.get(l)"
   ]
  },
  {
   "cell_type": "code",
   "execution_count": 163,
   "metadata": {},
   "outputs": [],
   "source": [
    "driver.get(link[1])"
   ]
  },
  {
   "cell_type": "code",
   "execution_count": 164,
   "metadata": {},
   "outputs": [],
   "source": [
    "src = driver.page_source\n",
    "soup = BeautifulSoup(src, 'lxml')"
   ]
  },
  {
   "cell_type": "code",
   "execution_count": 165,
   "metadata": {},
   "outputs": [
    {
     "data": {
      "text/plain": [
       "'Ganesh Pitchiah'"
      ]
     },
     "execution_count": 165,
     "metadata": {},
     "output_type": "execute_result"
    }
   ],
   "source": [
    "name=soup.find('div', {'class': 'flex-1 mr5 pv-top-card__list-container'}).find('ul').find('li').get_text().strip()\n",
    "name"
   ]
  },
  {
   "cell_type": "code",
   "execution_count": 114,
   "metadata": {},
   "outputs": [
    {
     "data": {
      "text/plain": [
       "'Anirudh Purwar'"
      ]
     },
     "execution_count": 114,
     "metadata": {},
     "output_type": "execute_result"
    }
   ],
   "source": [
    "name.find('ul').find('li').get_text().strip()"
   ]
  },
  {
   "cell_type": "code",
   "execution_count": 191,
   "metadata": {},
   "outputs": [
    {
     "name": "stdout",
     "output_type": "stream",
     "text": [
      "https://www.linkedin.com//in/sakshi-singh-a61a7214b/\n",
      "Sakshi Singh\n",
      "https://www.linkedin.com//in/anmol-kumar-22192914b/\n",
      "Anmol Kumar\n",
      "https://www.linkedin.com//in/afroz-alam-2177ab9b/\n",
      "Afroz Alam\n",
      "https://www.linkedin.com//in/amartyaprusty/\n",
      "Amartya Prusty\n",
      "https://www.linkedin.com//in/shiwansh-raj-rai-5158b0106/\n",
      "Shiwansh Raj Rai\n",
      "https://www.linkedin.com//in/monamirza25/\n",
      "Mona Mirza\n",
      "https://www.linkedin.com//in/vikaskushwaha/\n",
      "Vikas Kushwaha\n",
      "https://www.linkedin.com//in/divya-chauhan-0509/\n",
      "Divya Chauhan\n",
      "https://www.linkedin.com//in/nitish-sharma-56953345/\n",
      "Nitish Sharma\n",
      "https://www.linkedin.com//in/aditya-garg-993b75b8/\n",
      "Aditya Garg\n"
     ]
    },
    {
     "ename": "AttributeError",
     "evalue": "'NoneType' object has no attribute 'find'",
     "output_type": "error",
     "traceback": [
      "\u001b[0;31m---------------------------------------------------------------------------\u001b[0m",
      "\u001b[0;31mAttributeError\u001b[0m                            Traceback (most recent call last)",
      "\u001b[0;32m<ipython-input-191-fd7108381c20>\u001b[0m in \u001b[0;36m<module>\u001b[0;34m\u001b[0m\n\u001b[1;32m     29\u001b[0m     \u001b[0mdiv\u001b[0m\u001b[0;34m=\u001b[0m\u001b[0msoup\u001b[0m\u001b[0;34m.\u001b[0m\u001b[0mfind\u001b[0m\u001b[0;34m(\u001b[0m\u001b[0;34m'section'\u001b[0m\u001b[0;34m,\u001b[0m \u001b[0;34m{\u001b[0m\u001b[0;34m'id'\u001b[0m\u001b[0;34m:\u001b[0m \u001b[0;34m'education-section'\u001b[0m\u001b[0;34m}\u001b[0m\u001b[0;34m)\u001b[0m\u001b[0;34m\u001b[0m\u001b[0;34m\u001b[0m\u001b[0m\n\u001b[1;32m     30\u001b[0m     \u001b[0;31m#print(div)\u001b[0m\u001b[0;34m\u001b[0m\u001b[0;34m\u001b[0m\u001b[0;34m\u001b[0m\u001b[0m\n\u001b[0;32m---> 31\u001b[0;31m     \u001b[0mdiv\u001b[0m\u001b[0;34m=\u001b[0m\u001b[0mdiv\u001b[0m\u001b[0;34m.\u001b[0m\u001b[0mfind\u001b[0m\u001b[0;34m(\u001b[0m\u001b[0;34m'ul'\u001b[0m\u001b[0;34m)\u001b[0m\u001b[0;34m\u001b[0m\u001b[0;34m\u001b[0m\u001b[0m\n\u001b[0m\u001b[1;32m     32\u001b[0m     \u001b[0;31m#print(div)\u001b[0m\u001b[0;34m\u001b[0m\u001b[0;34m\u001b[0m\u001b[0;34m\u001b[0m\u001b[0m\n\u001b[1;32m     33\u001b[0m     \u001b[0myear\u001b[0m \u001b[0;34m=\u001b[0m \u001b[0mdiv\u001b[0m\u001b[0;34m.\u001b[0m\u001b[0mfind\u001b[0m\u001b[0;34m(\u001b[0m\u001b[0;34m'p'\u001b[0m\u001b[0;34m,\u001b[0m \u001b[0;34m{\u001b[0m\u001b[0;34m'class'\u001b[0m\u001b[0;34m:\u001b[0m \u001b[0;34m'pv-entity__dates t-14 t-black--light t-normal'\u001b[0m\u001b[0;34m}\u001b[0m\u001b[0;34m)\u001b[0m\u001b[0;34m.\u001b[0m\u001b[0mfind_all\u001b[0m\u001b[0;34m(\u001b[0m\u001b[0;34m'span'\u001b[0m\u001b[0;34m)\u001b[0m\u001b[0;34m[\u001b[0m\u001b[0;36m1\u001b[0m\u001b[0;34m]\u001b[0m\u001b[0;34m.\u001b[0m\u001b[0mget_text\u001b[0m\u001b[0;34m(\u001b[0m\u001b[0;34m)\u001b[0m\u001b[0;34m.\u001b[0m\u001b[0mstrip\u001b[0m\u001b[0;34m(\u001b[0m\u001b[0;34m)\u001b[0m\u001b[0;34m\u001b[0m\u001b[0;34m\u001b[0m\u001b[0m\n",
      "\u001b[0;31mAttributeError\u001b[0m: 'NoneType' object has no attribute 'find'"
     ]
    }
   ],
   "source": [
    "list=[]\n",
    "for j in range(144) : \n",
    "    l=link[j+2]\n",
    "    print(l)\n",
    "    driver.get(l)\n",
    "    \n",
    "    SCROLL_PAUSE_TIME = 5\n",
    "    # Get scroll height\n",
    "    last_height = driver.execute_script(\"return document.body.scrollHeight\")\n",
    "\n",
    "    for i in range(3):\n",
    "        # Scroll down to bottom\n",
    "        driver.execute_script(\"window.scrollTo(0, document.body.scrollHeight);\")\n",
    "\n",
    "        # Wait to load page\n",
    "        time.sleep(SCROLL_PAUSE_TIME)\n",
    "\n",
    "        # Calculate new scroll height and compare with last scroll height\n",
    "        new_height = driver.execute_script(\"return document.body.scrollHeight\")\n",
    "        if new_height == last_height:\n",
    "            break\n",
    "        last_height = new_height\n",
    "    src = driver.page_source\n",
    "    soup = BeautifulSoup(src, 'lxml')\n",
    "    #print(type(soup))\n",
    "    #print(soup)\n",
    "    name=soup.find('div', {'class': 'flex-1 mr5 pv-top-card__list-container'}).find('ul').find('li').get_text().strip()\n",
    "    print(name)\n",
    "    div=soup.find('section', {'id': 'education-section'})\n",
    "    #print(div)\n",
    "    div=div.find('ul')\n",
    "    #print(div)\n",
    "    year = div.find('p', {'class': 'pv-entity__dates t-14 t-black--light t-normal'}).find_all('span')[1].get_text().strip()\n",
    "    print(year)\n",
    "    branch = div.find('p', {'class': 'pv-entity__secondary-title pv-entity__fos t-14 t-black t-normal'}).find_all('span')[1].get_text().strip()\n",
    "    degree = div.find('p', {'class': 'pv-entity__secondary-title pv-entity__degree-name t-14 t-black t-normal'}).find_all('span')[1].get_text().strip()\n",
    "    list.append([name,l,year,degree,branch])\n",
    "    #driver.refresh()\n",
    "    #time.sleep(5)\n",
    "    "
   ]
  },
  {
   "cell_type": "code",
   "execution_count": 195,
   "metadata": {},
   "outputs": [],
   "source": [
    "#list"
   ]
  },
  {
   "cell_type": "code",
   "execution_count": 166,
   "metadata": {},
   "outputs": [],
   "source": [
    "div=soup.find('section', {'id': 'education-section'}).find('ul')"
   ]
  },
  {
   "cell_type": "code",
   "execution_count": 147,
   "metadata": {},
   "outputs": [],
   "source": [
    "#name_div"
   ]
  },
  {
   "cell_type": "code",
   "execution_count": 167,
   "metadata": {},
   "outputs": [
    {
     "data": {
      "text/plain": [
       "'2014 – 2016'"
      ]
     },
     "execution_count": 167,
     "metadata": {},
     "output_type": "execute_result"
    }
   ],
   "source": [
    "year = div.find('p', {'class': 'pv-entity__dates t-14 t-black--light t-normal'}).find_all('span')[1].get_text().strip()\n",
    "year"
   ]
  },
  {
   "cell_type": "code",
   "execution_count": 168,
   "metadata": {},
   "outputs": [
    {
     "data": {
      "text/plain": [
       "'Finance, General'"
      ]
     },
     "execution_count": 168,
     "metadata": {},
     "output_type": "execute_result"
    }
   ],
   "source": [
    "branch = div.find('p', {'class': 'pv-entity__secondary-title pv-entity__fos t-14 t-black t-normal'}).find_all('span')[1].get_text().strip()\n",
    "branch"
   ]
  },
  {
   "cell_type": "code",
   "execution_count": 169,
   "metadata": {},
   "outputs": [
    {
     "data": {
      "text/plain": [
       "'Master of Business Administration (M.B.A.)'"
      ]
     },
     "execution_count": 169,
     "metadata": {},
     "output_type": "execute_result"
    }
   ],
   "source": [
    "degree = div.find('p', {'class': 'pv-entity__secondary-title pv-entity__degree-name t-14 t-black t-normal'}).find_all('span')[1].get_text().strip()\n",
    "degree"
   ]
  },
  {
   "cell_type": "code",
   "execution_count": 67,
   "metadata": {},
   "outputs": [],
   "source": [
    "import pandas as pd"
   ]
  },
  {
   "cell_type": "code",
   "execution_count": 193,
   "metadata": {},
   "outputs": [
    {
     "data": {
      "text/html": [
       "<div>\n",
       "<style scoped>\n",
       "    .dataframe tbody tr th:only-of-type {\n",
       "        vertical-align: middle;\n",
       "    }\n",
       "\n",
       "    .dataframe tbody tr th {\n",
       "        vertical-align: top;\n",
       "    }\n",
       "\n",
       "    .dataframe thead th {\n",
       "        text-align: right;\n",
       "    }\n",
       "</style>\n",
       "<table border=\"1\" class=\"dataframe\">\n",
       "  <thead>\n",
       "    <tr style=\"text-align: right;\">\n",
       "      <th></th>\n",
       "      <th>Name</th>\n",
       "      <th>Link</th>\n",
       "      <th>Year</th>\n",
       "      <th>Degree</th>\n",
       "      <th>Branch</th>\n",
       "    </tr>\n",
       "  </thead>\n",
       "  <tbody>\n",
       "    <tr>\n",
       "      <th>0</th>\n",
       "      <td>Sakshi Singh</td>\n",
       "      <td>https://www.linkedin.com//in/sakshi-singh-a61a...</td>\n",
       "      <td>2016 – 2020</td>\n",
       "      <td>Bachelor of Technology</td>\n",
       "      <td>Chemical Engineering</td>\n",
       "    </tr>\n",
       "    <tr>\n",
       "      <th>1</th>\n",
       "      <td>Anmol Kumar</td>\n",
       "      <td>https://www.linkedin.com//in/anmol-kumar-22192...</td>\n",
       "      <td>2016 – 2018</td>\n",
       "      <td>Master of Technology</td>\n",
       "      <td>Computer Science</td>\n",
       "    </tr>\n",
       "    <tr>\n",
       "      <th>2</th>\n",
       "      <td>Afroz Alam</td>\n",
       "      <td>https://www.linkedin.com//in/afroz-alam-2177ab9b/</td>\n",
       "      <td>2014 – 2018</td>\n",
       "      <td>Bachelor of Technology - BTech</td>\n",
       "      <td>Computer Science</td>\n",
       "    </tr>\n",
       "    <tr>\n",
       "      <th>3</th>\n",
       "      <td>Amartya Prusty</td>\n",
       "      <td>https://www.linkedin.com//in/amartyaprusty/</td>\n",
       "      <td>2016 – 2020</td>\n",
       "      <td>Bachelor of Technology (B.Tech.)</td>\n",
       "      <td>Chemical Engineering</td>\n",
       "    </tr>\n",
       "    <tr>\n",
       "      <th>4</th>\n",
       "      <td>Shiwansh Raj Rai</td>\n",
       "      <td>https://www.linkedin.com//in/shiwansh-raj-rai-...</td>\n",
       "      <td>2015 – 2019</td>\n",
       "      <td>Bachelor of Technology (B.Tech.)</td>\n",
       "      <td>Aerospace engineering with minor in computer s...</td>\n",
       "    </tr>\n",
       "    <tr>\n",
       "      <th>5</th>\n",
       "      <td>Mona Mirza</td>\n",
       "      <td>https://www.linkedin.com//in/monamirza25/</td>\n",
       "      <td>2015 – 2019</td>\n",
       "      <td>Bachelor of Science (B.S.)</td>\n",
       "      <td>Chemistry</td>\n",
       "    </tr>\n",
       "    <tr>\n",
       "      <th>6</th>\n",
       "      <td>Vikas Kushwaha</td>\n",
       "      <td>https://www.linkedin.com//in/vikaskushwaha/</td>\n",
       "      <td>2008 – 2013</td>\n",
       "      <td>B Tech - M Tech Dual degree</td>\n",
       "      <td>Computer science and Engineering</td>\n",
       "    </tr>\n",
       "    <tr>\n",
       "      <th>7</th>\n",
       "      <td>Divya Chauhan</td>\n",
       "      <td>https://www.linkedin.com//in/divya-chauhan-0509/</td>\n",
       "      <td>2016 – 2020</td>\n",
       "      <td>Bachelor of Technology</td>\n",
       "      <td>Computer Science and Engineering</td>\n",
       "    </tr>\n",
       "    <tr>\n",
       "      <th>8</th>\n",
       "      <td>Nitish Sharma</td>\n",
       "      <td>https://www.linkedin.com//in/nitish-sharma-569...</td>\n",
       "      <td>2010 – 2014</td>\n",
       "      <td>Bachelor of Technology (BTech)</td>\n",
       "      <td>Electrical and Electronics Engineering</td>\n",
       "    </tr>\n",
       "  </tbody>\n",
       "</table>\n",
       "</div>"
      ],
      "text/plain": [
       "               Name                                               Link  \\\n",
       "0      Sakshi Singh  https://www.linkedin.com//in/sakshi-singh-a61a...   \n",
       "1       Anmol Kumar  https://www.linkedin.com//in/anmol-kumar-22192...   \n",
       "2        Afroz Alam  https://www.linkedin.com//in/afroz-alam-2177ab9b/   \n",
       "3    Amartya Prusty        https://www.linkedin.com//in/amartyaprusty/   \n",
       "4  Shiwansh Raj Rai  https://www.linkedin.com//in/shiwansh-raj-rai-...   \n",
       "5        Mona Mirza          https://www.linkedin.com//in/monamirza25/   \n",
       "6    Vikas Kushwaha        https://www.linkedin.com//in/vikaskushwaha/   \n",
       "7     Divya Chauhan   https://www.linkedin.com//in/divya-chauhan-0509/   \n",
       "8     Nitish Sharma  https://www.linkedin.com//in/nitish-sharma-569...   \n",
       "\n",
       "          Year                            Degree  \\\n",
       "0  2016 – 2020            Bachelor of Technology   \n",
       "1  2016 – 2018              Master of Technology   \n",
       "2  2014 – 2018    Bachelor of Technology - BTech   \n",
       "3  2016 – 2020  Bachelor of Technology (B.Tech.)   \n",
       "4  2015 – 2019  Bachelor of Technology (B.Tech.)   \n",
       "5  2015 – 2019        Bachelor of Science (B.S.)   \n",
       "6  2008 – 2013       B Tech - M Tech Dual degree   \n",
       "7  2016 – 2020            Bachelor of Technology   \n",
       "8  2010 – 2014    Bachelor of Technology (BTech)   \n",
       "\n",
       "                                              Branch  \n",
       "0                               Chemical Engineering  \n",
       "1                                   Computer Science  \n",
       "2                                   Computer Science  \n",
       "3                               Chemical Engineering  \n",
       "4  Aerospace engineering with minor in computer s...  \n",
       "5                                          Chemistry  \n",
       "6                   Computer science and Engineering  \n",
       "7                   Computer Science and Engineering  \n",
       "8             Electrical and Electronics Engineering  "
      ]
     },
     "execution_count": 193,
     "metadata": {},
     "output_type": "execute_result"
    }
   ],
   "source": [
    "pd.DataFrame(list,columns=['Name','Link','Year','Degree','Branch'])"
   ]
  },
  {
   "cell_type": "code",
   "execution_count": 202,
   "metadata": {},
   "outputs": [
    {
     "data": {
      "text/html": [
       "<div>\n",
       "<style scoped>\n",
       "    .dataframe tbody tr th:only-of-type {\n",
       "        vertical-align: middle;\n",
       "    }\n",
       "\n",
       "    .dataframe tbody tr th {\n",
       "        vertical-align: top;\n",
       "    }\n",
       "\n",
       "    .dataframe thead th {\n",
       "        text-align: right;\n",
       "    }\n",
       "</style>\n",
       "<table border=\"1\" class=\"dataframe\">\n",
       "  <thead>\n",
       "    <tr style=\"text-align: right;\">\n",
       "      <th></th>\n",
       "      <th>Name</th>\n",
       "      <th>Link</th>\n",
       "      <th>Company</th>\n",
       "    </tr>\n",
       "  </thead>\n",
       "  <tbody>\n",
       "    <tr>\n",
       "      <th>0</th>\n",
       "      <td>Anirudh Purwar</td>\n",
       "      <td>https://www.linkedin.com//in/anirudh-purwar-07...</td>\n",
       "      <td>Goldman Sachs</td>\n",
       "    </tr>\n",
       "    <tr>\n",
       "      <th>1</th>\n",
       "      <td>Ganesh Pitchiah</td>\n",
       "      <td>https://www.linkedin.com//in/pitchiahganesh/</td>\n",
       "      <td>Goldman Sachs</td>\n",
       "    </tr>\n",
       "    <tr>\n",
       "      <th>2</th>\n",
       "      <td>Sakshi Singh</td>\n",
       "      <td>https://www.linkedin.com//in/sakshi-singh-a61a...</td>\n",
       "      <td>Goldman Sachs</td>\n",
       "    </tr>\n",
       "    <tr>\n",
       "      <th>3</th>\n",
       "      <td>Anmol Kumar</td>\n",
       "      <td>https://www.linkedin.com//in/anmol-kumar-22192...</td>\n",
       "      <td>Goldman Sachs</td>\n",
       "    </tr>\n",
       "    <tr>\n",
       "      <th>4</th>\n",
       "      <td>Afroz Alam</td>\n",
       "      <td>https://www.linkedin.com//in/afroz-alam-2177ab9b/</td>\n",
       "      <td>Goldman Sachs</td>\n",
       "    </tr>\n",
       "    <tr>\n",
       "      <th>...</th>\n",
       "      <td>...</td>\n",
       "      <td>...</td>\n",
       "      <td>...</td>\n",
       "    </tr>\n",
       "    <tr>\n",
       "      <th>137</th>\n",
       "      <td>Sidharath Priyadarshi, CFA, FRM</td>\n",
       "      <td>https://www.linkedin.com//in/sidharath-priyada...</td>\n",
       "      <td>Goldman Sachs</td>\n",
       "    </tr>\n",
       "    <tr>\n",
       "      <th>138</th>\n",
       "      <td>Suman Dhara</td>\n",
       "      <td>https://www.linkedin.com//in/suman-dhara-4a549...</td>\n",
       "      <td>Goldman Sachs</td>\n",
       "    </tr>\n",
       "    <tr>\n",
       "      <th>139</th>\n",
       "      <td>Gauranga Pal</td>\n",
       "      <td>https://www.linkedin.com//in/gauranga-pal-0203...</td>\n",
       "      <td>Goldman Sachs</td>\n",
       "    </tr>\n",
       "    <tr>\n",
       "      <th>140</th>\n",
       "      <td>Sumit Gupta</td>\n",
       "      <td>https://www.linkedin.com//in/sumitgupta2/</td>\n",
       "      <td>Goldman Sachs</td>\n",
       "    </tr>\n",
       "    <tr>\n",
       "      <th>141</th>\n",
       "      <td>Prashant Gupta</td>\n",
       "      <td>https://www.linkedin.com//in/prashant-gupta-94...</td>\n",
       "      <td>Goldman Sachs</td>\n",
       "    </tr>\n",
       "  </tbody>\n",
       "</table>\n",
       "<p>142 rows × 3 columns</p>\n",
       "</div>"
      ],
      "text/plain": [
       "                                Name  \\\n",
       "0                     Anirudh Purwar   \n",
       "1                    Ganesh Pitchiah   \n",
       "2                       Sakshi Singh   \n",
       "3                        Anmol Kumar   \n",
       "4                         Afroz Alam   \n",
       "..                               ...   \n",
       "137  Sidharath Priyadarshi, CFA, FRM   \n",
       "138                      Suman Dhara   \n",
       "139                     Gauranga Pal   \n",
       "140                      Sumit Gupta   \n",
       "141                   Prashant Gupta   \n",
       "\n",
       "                                                  Link        Company  \n",
       "0    https://www.linkedin.com//in/anirudh-purwar-07...  Goldman Sachs  \n",
       "1         https://www.linkedin.com//in/pitchiahganesh/  Goldman Sachs  \n",
       "2    https://www.linkedin.com//in/sakshi-singh-a61a...  Goldman Sachs  \n",
       "3    https://www.linkedin.com//in/anmol-kumar-22192...  Goldman Sachs  \n",
       "4    https://www.linkedin.com//in/afroz-alam-2177ab9b/  Goldman Sachs  \n",
       "..                                                 ...            ...  \n",
       "137  https://www.linkedin.com//in/sidharath-priyada...  Goldman Sachs  \n",
       "138  https://www.linkedin.com//in/suman-dhara-4a549...  Goldman Sachs  \n",
       "139  https://www.linkedin.com//in/gauranga-pal-0203...  Goldman Sachs  \n",
       "140          https://www.linkedin.com//in/sumitgupta2/  Goldman Sachs  \n",
       "141  https://www.linkedin.com//in/prashant-gupta-94...  Goldman Sachs  \n",
       "\n",
       "[142 rows x 3 columns]"
      ]
     },
     "execution_count": 202,
     "metadata": {},
     "output_type": "execute_result"
    }
   ],
   "source": [
    "nl=pd.DataFrame({'Name': names , 'Link':link , 'Company' : company},columns=['Name','Link','Company'])\n",
    "nl"
   ]
  },
  {
   "cell_type": "code",
   "execution_count": 287,
   "metadata": {},
   "outputs": [
    {
     "data": {
      "text/html": [
       "<div>\n",
       "<style scoped>\n",
       "    .dataframe tbody tr th:only-of-type {\n",
       "        vertical-align: middle;\n",
       "    }\n",
       "\n",
       "    .dataframe tbody tr th {\n",
       "        vertical-align: top;\n",
       "    }\n",
       "\n",
       "    .dataframe thead th {\n",
       "        text-align: right;\n",
       "    }\n",
       "</style>\n",
       "<table border=\"1\" class=\"dataframe\">\n",
       "  <thead>\n",
       "    <tr style=\"text-align: right;\">\n",
       "      <th></th>\n",
       "      <th>Name</th>\n",
       "      <th>Link</th>\n",
       "      <th>Company</th>\n",
       "    </tr>\n",
       "  </thead>\n",
       "  <tbody>\n",
       "    <tr>\n",
       "      <th>0</th>\n",
       "      <td>Pranjul Gupta</td>\n",
       "      <td>https://www.linkedin.com//in/pranjul-gupta-b44...</td>\n",
       "      <td>TCS</td>\n",
       "    </tr>\n",
       "    <tr>\n",
       "      <th>1</th>\n",
       "      <td>Gautam Shroff</td>\n",
       "      <td>https://www.linkedin.com//in/gautam-shroff-066...</td>\n",
       "      <td>TCS</td>\n",
       "    </tr>\n",
       "    <tr>\n",
       "      <th>2</th>\n",
       "      <td>Krithi Krithivasan</td>\n",
       "      <td>https://www.linkedin.com//in/krithi-krithivasa...</td>\n",
       "      <td>TCS</td>\n",
       "    </tr>\n",
       "    <tr>\n",
       "      <th>3</th>\n",
       "      <td>Arvapalli Sai Susmitha</td>\n",
       "      <td>https://www.linkedin.com//in/arvapalli-sai-sus...</td>\n",
       "      <td>TCS</td>\n",
       "    </tr>\n",
       "    <tr>\n",
       "      <th>4</th>\n",
       "      <td>Yash D. Jaiswal</td>\n",
       "      <td>https://www.linkedin.com//in/yashdj/</td>\n",
       "      <td>TCS</td>\n",
       "    </tr>\n",
       "    <tr>\n",
       "      <th>...</th>\n",
       "      <td>...</td>\n",
       "      <td>...</td>\n",
       "      <td>...</td>\n",
       "    </tr>\n",
       "    <tr>\n",
       "      <th>183</th>\n",
       "      <td>Amit Bhowmik</td>\n",
       "      <td>https://www.linkedin.com//in/amit-bhowmik-1a35...</td>\n",
       "      <td>TCS</td>\n",
       "    </tr>\n",
       "    <tr>\n",
       "      <th>184</th>\n",
       "      <td>Ashish Gupta</td>\n",
       "      <td>https://www.linkedin.com//in/ashish-gupta-2ba3...</td>\n",
       "      <td>TCS</td>\n",
       "    </tr>\n",
       "    <tr>\n",
       "      <th>185</th>\n",
       "      <td>Sandeep Tammana</td>\n",
       "      <td>https://www.linkedin.com//in/sandeeptj/</td>\n",
       "      <td>TCS</td>\n",
       "    </tr>\n",
       "    <tr>\n",
       "      <th>186</th>\n",
       "      <td>Navin Garg</td>\n",
       "      <td>https://www.linkedin.com//in/navin-garg-054821a/</td>\n",
       "      <td>TCS</td>\n",
       "    </tr>\n",
       "    <tr>\n",
       "      <th>187</th>\n",
       "      <td>Srinivasulu Sivaraju</td>\n",
       "      <td>https://www.linkedin.com//in/srinivasulu-sivar...</td>\n",
       "      <td>TCS</td>\n",
       "    </tr>\n",
       "  </tbody>\n",
       "</table>\n",
       "<p>188 rows × 3 columns</p>\n",
       "</div>"
      ],
      "text/plain": [
       "                       Name  \\\n",
       "0             Pranjul Gupta   \n",
       "1             Gautam Shroff   \n",
       "2        Krithi Krithivasan   \n",
       "3    Arvapalli Sai Susmitha   \n",
       "4           Yash D. Jaiswal   \n",
       "..                      ...   \n",
       "183            Amit Bhowmik   \n",
       "184            Ashish Gupta   \n",
       "185         Sandeep Tammana   \n",
       "186              Navin Garg   \n",
       "187    Srinivasulu Sivaraju   \n",
       "\n",
       "                                                  Link Company  \n",
       "0    https://www.linkedin.com//in/pranjul-gupta-b44...     TCS  \n",
       "1    https://www.linkedin.com//in/gautam-shroff-066...     TCS  \n",
       "2    https://www.linkedin.com//in/krithi-krithivasa...     TCS  \n",
       "3    https://www.linkedin.com//in/arvapalli-sai-sus...     TCS  \n",
       "4                 https://www.linkedin.com//in/yashdj/     TCS  \n",
       "..                                                 ...     ...  \n",
       "183  https://www.linkedin.com//in/amit-bhowmik-1a35...     TCS  \n",
       "184  https://www.linkedin.com//in/ashish-gupta-2ba3...     TCS  \n",
       "185            https://www.linkedin.com//in/sandeeptj/     TCS  \n",
       "186   https://www.linkedin.com//in/navin-garg-054821a/     TCS  \n",
       "187  https://www.linkedin.com//in/srinivasulu-sivar...     TCS  \n",
       "\n",
       "[188 rows x 3 columns]"
      ]
     },
     "execution_count": 287,
     "metadata": {},
     "output_type": "execute_result"
    }
   ],
   "source": [
    "p=pd.DataFrame({'Name': names , 'Link':link , 'Company' : company},columns=['Name','Link','Company'])\n",
    "p"
   ]
  },
  {
   "cell_type": "code",
   "execution_count": 288,
   "metadata": {},
   "outputs": [
    {
     "data": {
      "text/html": [
       "<div>\n",
       "<style scoped>\n",
       "    .dataframe tbody tr th:only-of-type {\n",
       "        vertical-align: middle;\n",
       "    }\n",
       "\n",
       "    .dataframe tbody tr th {\n",
       "        vertical-align: top;\n",
       "    }\n",
       "\n",
       "    .dataframe thead th {\n",
       "        text-align: right;\n",
       "    }\n",
       "</style>\n",
       "<table border=\"1\" class=\"dataframe\">\n",
       "  <thead>\n",
       "    <tr style=\"text-align: right;\">\n",
       "      <th></th>\n",
       "      <th>Name</th>\n",
       "      <th>Link</th>\n",
       "      <th>Company</th>\n",
       "    </tr>\n",
       "  </thead>\n",
       "  <tbody>\n",
       "    <tr>\n",
       "      <th>0</th>\n",
       "      <td>Anirudh Purwar</td>\n",
       "      <td>https://www.linkedin.com//in/anirudh-purwar-07...</td>\n",
       "      <td>Goldman Sachs</td>\n",
       "    </tr>\n",
       "    <tr>\n",
       "      <th>1</th>\n",
       "      <td>Ganesh Pitchiah</td>\n",
       "      <td>https://www.linkedin.com//in/pitchiahganesh/</td>\n",
       "      <td>Goldman Sachs</td>\n",
       "    </tr>\n",
       "    <tr>\n",
       "      <th>2</th>\n",
       "      <td>Sakshi Singh</td>\n",
       "      <td>https://www.linkedin.com//in/sakshi-singh-a61a...</td>\n",
       "      <td>Goldman Sachs</td>\n",
       "    </tr>\n",
       "    <tr>\n",
       "      <th>3</th>\n",
       "      <td>Anmol Kumar</td>\n",
       "      <td>https://www.linkedin.com//in/anmol-kumar-22192...</td>\n",
       "      <td>Goldman Sachs</td>\n",
       "    </tr>\n",
       "    <tr>\n",
       "      <th>4</th>\n",
       "      <td>Afroz Alam</td>\n",
       "      <td>https://www.linkedin.com//in/afroz-alam-2177ab9b/</td>\n",
       "      <td>Goldman Sachs</td>\n",
       "    </tr>\n",
       "    <tr>\n",
       "      <th>...</th>\n",
       "      <td>...</td>\n",
       "      <td>...</td>\n",
       "      <td>...</td>\n",
       "    </tr>\n",
       "    <tr>\n",
       "      <th>183</th>\n",
       "      <td>Amit Bhowmik</td>\n",
       "      <td>https://www.linkedin.com//in/amit-bhowmik-1a35...</td>\n",
       "      <td>TCS</td>\n",
       "    </tr>\n",
       "    <tr>\n",
       "      <th>184</th>\n",
       "      <td>Ashish Gupta</td>\n",
       "      <td>https://www.linkedin.com//in/ashish-gupta-2ba3...</td>\n",
       "      <td>TCS</td>\n",
       "    </tr>\n",
       "    <tr>\n",
       "      <th>185</th>\n",
       "      <td>Sandeep Tammana</td>\n",
       "      <td>https://www.linkedin.com//in/sandeeptj/</td>\n",
       "      <td>TCS</td>\n",
       "    </tr>\n",
       "    <tr>\n",
       "      <th>186</th>\n",
       "      <td>Navin Garg</td>\n",
       "      <td>https://www.linkedin.com//in/navin-garg-054821a/</td>\n",
       "      <td>TCS</td>\n",
       "    </tr>\n",
       "    <tr>\n",
       "      <th>187</th>\n",
       "      <td>Srinivasulu Sivaraju</td>\n",
       "      <td>https://www.linkedin.com//in/srinivasulu-sivar...</td>\n",
       "      <td>TCS</td>\n",
       "    </tr>\n",
       "  </tbody>\n",
       "</table>\n",
       "<p>2146 rows × 3 columns</p>\n",
       "</div>"
      ],
      "text/plain": [
       "                     Name                                               Link  \\\n",
       "0          Anirudh Purwar  https://www.linkedin.com//in/anirudh-purwar-07...   \n",
       "1         Ganesh Pitchiah       https://www.linkedin.com//in/pitchiahganesh/   \n",
       "2            Sakshi Singh  https://www.linkedin.com//in/sakshi-singh-a61a...   \n",
       "3             Anmol Kumar  https://www.linkedin.com//in/anmol-kumar-22192...   \n",
       "4              Afroz Alam  https://www.linkedin.com//in/afroz-alam-2177ab9b/   \n",
       "..                    ...                                                ...   \n",
       "183          Amit Bhowmik  https://www.linkedin.com//in/amit-bhowmik-1a35...   \n",
       "184          Ashish Gupta  https://www.linkedin.com//in/ashish-gupta-2ba3...   \n",
       "185       Sandeep Tammana            https://www.linkedin.com//in/sandeeptj/   \n",
       "186            Navin Garg   https://www.linkedin.com//in/navin-garg-054821a/   \n",
       "187  Srinivasulu Sivaraju  https://www.linkedin.com//in/srinivasulu-sivar...   \n",
       "\n",
       "           Company  \n",
       "0    Goldman Sachs  \n",
       "1    Goldman Sachs  \n",
       "2    Goldman Sachs  \n",
       "3    Goldman Sachs  \n",
       "4    Goldman Sachs  \n",
       "..             ...  \n",
       "183            TCS  \n",
       "184            TCS  \n",
       "185            TCS  \n",
       "186            TCS  \n",
       "187            TCS  \n",
       "\n",
       "[2146 rows x 3 columns]"
      ]
     },
     "execution_count": 288,
     "metadata": {},
     "output_type": "execute_result"
    }
   ],
   "source": [
    "nl = nl.append(p)\n",
    "nl"
   ]
  },
  {
   "cell_type": "code",
   "execution_count": 289,
   "metadata": {},
   "outputs": [],
   "source": [
    "nl.to_excel('linkedin_scrap.xlsx')"
   ]
  },
  {
   "cell_type": "code",
   "execution_count": 247,
   "metadata": {},
   "outputs": [
    {
     "name": "stdout",
     "output_type": "stream",
     "text": [
      "/home/nakul/anaconda3/bin\n"
     ]
    }
   ],
   "source": [
    "!pwd"
   ]
  },
  {
   "cell_type": "code",
   "execution_count": 245,
   "metadata": {},
   "outputs": [],
   "source": [
    "!cd .."
   ]
  },
  {
   "cell_type": "code",
   "execution_count": null,
   "metadata": {},
   "outputs": [],
   "source": []
  }
 ],
 "metadata": {
  "kernelspec": {
   "display_name": "Python 3",
   "language": "python",
   "name": "python3"
  },
  "language_info": {
   "codemirror_mode": {
    "name": "ipython",
    "version": 3
   },
   "file_extension": ".py",
   "mimetype": "text/x-python",
   "name": "python",
   "nbconvert_exporter": "python",
   "pygments_lexer": "ipython3",
   "version": "3.8.8"
  }
 },
 "nbformat": 4,
 "nbformat_minor": 4
}
